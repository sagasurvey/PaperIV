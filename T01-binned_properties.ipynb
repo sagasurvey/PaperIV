{
 "cells": [
  {
   "cell_type": "markdown",
   "metadata": {},
   "source": [
    "# Create binned table data"
   ]
  },
  {
   "cell_type": "code",
   "execution_count": 2,
   "metadata": {},
   "outputs": [],
   "source": [
    "import io\n",
    "import numpy as np\n",
    "from astropy.table import Table"
   ]
  },
  {
   "cell_type": "markdown",
   "metadata": {},
   "source": [
    "## Gather data sets"
   ]
  },
  {
   "cell_type": "code",
   "execution_count": 3,
   "metadata": {},
   "outputs": [],
   "source": [
    "fq_mass = np.load(\"data/fq_mass.npy\")  # Figure 4: quenched fraciton vs.  stellar mass\n",
    "fq_dist = np.load(\"data/fq_dist.npy\")  # Figure 5: quenched fraction vs. radius\n",
    "ssfr_dist = np.load(\"data/ssfr_dist.npy\")  # Figure 7: sSFR vs. radius"
   ]
  },
  {
   "cell_type": "code",
   "execution_count": 4,
   "metadata": {},
   "outputs": [],
   "source": [
    "# Figure 6: SFR_NUV vs. stellar mass - TODO: update to use np.save\n",
    "sfr_nuv_mass = np.loadtxt(io.StringIO(\"\"\"6.9\t  -2.84\t  0.22\t  0.30\n",
    "7.3\t  -2.47\t  0.41\t  0.23\n",
    "7.6\t  -2.40\t  0.30\t  0.37\n",
    "7.8\t  -2.19\t  0.42\t  0.40\n",
    "8.2\t  -1.94\t  0.35\t  0.37\n",
    "8.6\t  -1.65\t  0.25\t  0.41\n",
    "9.4\t  -0.88\t  0.37\t  0.44\"\"\")).T"
   ]
  },
  {
   "cell_type": "code",
   "execution_count": 5,
   "metadata": {},
   "outputs": [],
   "source": [
    "# Figure 6: SFR_Halpha vs. stellar mass - TODO: update to use np.save\n",
    "sfr_ha_mass = np.loadtxt(io.StringIO(\"\"\"6.9\t  -3.00\t  0.34\t  0.40\n",
    "7.3\t  -2.61\t  0.49\t  0.60\n",
    "7.6\t  -2.59\t  0.31\t  0.97\n",
    "7.8\t  -2.20\t  0.44\t  0.44\n",
    "8.2\t  -2.16\t  0.34\t  0.83\n",
    "8.6\t  -1.53\t  0.44\t  0.64\n",
    "9.4\t  -0.75\t  0.44\t  0.39\"\"\")).T"
   ]
  },
  {
   "cell_type": "code",
   "execution_count": 6,
   "metadata": {},
   "outputs": [],
   "source": [
    "# Figure 8: sSFR_NUV vs. stellar mass - TODO: update to use np.save\n",
    "ssfr_nuv_mass = np.loadtxt(io.StringIO(\"\"\"\n",
    "6.9\t  -9.81\t  0.20\t  0.34\n",
    "7.3\t  -9.81\t  0.34\t  0.26\n",
    "7.6\t  -9.96\t  0.33\t  0.35\n",
    "7.8\t  -9.98\t  0.53\t  0.36\n",
    "8.2\t  -10.10\t0.32\t0.34\n",
    "8.6\t  -10.15\t0.38\t0.32\n",
    "9.4\t  -10.19\t0.59\t0.31\"\"\")).T"
   ]
  },
  {
   "cell_type": "markdown",
   "metadata": {},
   "source": [
    "## Print out latex tables"
   ]
  },
  {
   "cell_type": "code",
   "execution_count": 7,
   "metadata": {},
   "outputs": [],
   "source": [
    "def write_latex_table(t, formats=None, write_to=None, display=True, edit_func=None):\n",
    "    if formats is None:\n",
    "        formats = {}\n",
    "    if not isinstance(formats, dict):\n",
    "        formats = {c: f for c, f in zip(t.colnames, formats)}\n",
    "\n",
    "    fp = io.StringIO()\n",
    "    t.write(fp, format=\"ascii.latex\", formats=formats)\n",
    "    lines = fp.getvalue().splitlines()\n",
    "    if edit_func is not None:\n",
    "        lines = edit_func(lines)\n",
    "    lines[-3] = lines[-3].rstrip(\"\\\\\")\n",
    "\n",
    "    fp = io.StringIO()\n",
    "    fp.write(\"\\n\".join(lines[3:-2]))\n",
    "    fp.write(\"\\n\")\n",
    "    out = fp.getvalue()\n",
    "\n",
    "    if write_to:\n",
    "        with open(write_to, \"w\") as fp:\n",
    "            fp.write(out)\n",
    "\n",
    "    if display:\n",
    "        print(out)"
   ]
  },
  {
   "cell_type": "markdown",
   "metadata": {},
   "source": [
    "### Stellar mass table"
   ]
  },
  {
   "cell_type": "code",
   "execution_count": 8,
   "metadata": {},
   "outputs": [
    {
     "name": "stdout",
     "output_type": "stream",
     "text": [
      "9.38 & 0.135 & 0.049 & $-0.88$ & $-1.25$ & $-0.44$ & $-10.26$ & $-10.78$ & $-9.88$ & $-0.75$ & $-1.19$ & $-0.36$ \\\\\n",
      "8.62 & 0.160 & 0.053 & $-1.65$ & $-1.90$ & $-1.24$ & $-10.27$ & $-10.53$ & $-9.83$ & $-1.53$ & $-1.97$ & $-0.89$ \\\\\n",
      "8.15 & 0.259 & 0.061 & $-1.94$ & $-2.29$ & $-1.57$ & $-10.09$ & $-10.42$ & $-9.76$ & $-2.16$ & $-2.50$ & $-1.33$ \\\\\n",
      "7.83 & 0.335 & 0.063 & $-2.19$ & $-2.61$ & $-1.79$ & $-10.02$ & $-10.51$ & $-9.62$ & $-2.20$ & $-2.64$ & $-1.76$ \\\\\n",
      "7.57 & 0.408 & 0.061 & $-2.40$ & $-2.70$ & $-2.03$ & $-9.97$ & $-10.29$ & $-9.61$ & $-2.59$ & $-2.90$ & $-1.62$ \\\\\n",
      "7.31 & 0.562 & 0.056 & $-2.47$ & $-2.88$ & $-2.24$ & $-9.78$ & $-10.15$ & $-9.55$ & $-2.61$ & $-3.10$ & $-2.01$ \\\\\n",
      "6.95 & 0.792 & 0.026 & $-2.84$ & $-3.06$ & $-2.54$ & $-9.79$ & $-10.01$ & $-9.47$ & $-3.00$ & $-3.34$ & $-2.60$ \n",
      "\n"
     ]
    }
   ],
   "source": [
    "t_mass = Table(data={\n",
    "    \"log_sm\": fq_mass[0],\n",
    "    \"fq\": fq_mass[1],\n",
    "    \"fq_err\": fq_mass[2],\n",
    "    \"sfr_nuv\": sfr_nuv_mass[1],\n",
    "    \"sfr_nuv_16\": sfr_nuv_mass[1] - sfr_nuv_mass[2],\n",
    "    \"sfr_nuv_84\": sfr_nuv_mass[1] + sfr_nuv_mass[3],\n",
    "    \"ssfr_nuv\": sfr_nuv_mass[1] - fq_mass[0],\n",
    "    \"ssfr_nuv_16\": ssfr_nuv_mass[1] - ssfr_nuv_mass[2],\n",
    "    \"ssfr_nuv_84\": ssfr_nuv_mass[1] + ssfr_nuv_mass[3],\n",
    "    \"sfr_ha\": sfr_ha_mass[1],\n",
    "    \"sfr_ha_16\": sfr_ha_mass[1] - sfr_ha_mass[2],\n",
    "    \"sfr_ha_84\": sfr_ha_mass[1] + sfr_ha_mass[3],\n",
    "})\n",
    "\n",
    "write_latex_table(\n",
    "    t_mass[::-1],\n",
    "    formats=([\"%.2f\"] + [\"%.3f\"] * 2 + [\"$%.2f$\"] * 9),\n",
    ")"
   ]
  },
  {
   "cell_type": "code",
   "execution_count": 12,
   "metadata": {},
   "outputs": [
    {
     "name": "stdout",
     "output_type": "stream",
     "text": [
      "\\phn34.2 & 0.518 & 0.071 & $-10.17$ & $-10.48$ & $-\\phn9.45$ & $-\\phn9.85$ & $-10.26$ & $-\\phn9.51$ \\\\\n",
      "\\phn82.5 & 0.252 & 0.067 & $-10.27$ & $-10.59$ & $-\\phn9.60$ & $-10.05$ & $-10.33$ & $-\\phn9.42$ \\\\\n",
      "130.8 & 0.247 & 0.073 & $-10.18$ & $-10.49$ & $-\\phn9.85$ & $-10.06$ & $-10.42$ & $-\\phn9.78$ \\\\\n",
      "179.2 & 0.166 & 0.064 & $-10.05$ & $-10.48$ & $-\\phn9.42$ & $-\\phn9.99$ & $-10.32$ & $-\\phn9.59$ \\\\\n",
      "227.5 & 0.205 & 0.065 & $-\\phn9.96$ & $-10.35$ & $-\\phn9.33$ & $-\\phn9.89$ & $-10.21$ & $-\\phn9.34$ \\\\\n",
      "275.8 & 0.132 & 0.048 & $-\\phn9.92$ & $-10.39$ & $-\\phn9.39$ & $-\\phn9.80$ & $-10.36$ & $-\\phn9.36$ \n",
      "\n"
     ]
    }
   ],
   "source": [
    "t_dist = Table(data={\n",
    "    \"dist\": fq_dist[0],\n",
    "    \"fq\": fq_dist[1],\n",
    "    \"fq_err\": fq_dist[2],\n",
    "    \"sfr_gold\": ssfr_dist[4],\n",
    "    \"sfr_gold_16\": ssfr_dist[4] - ssfr_dist[5],\n",
    "    \"sfr_gold_84\": ssfr_dist[4] + ssfr_dist[6],\n",
    "    \"sfr_silver\": ssfr_dist[1],\n",
    "    \"sfr_silver_16\": ssfr_dist[1] - ssfr_dist[2],\n",
    "    \"sfr_silver_84\": ssfr_dist[1] + ssfr_dist[3],\n",
    "})\n",
    "\n",
    "def edit_func(lines):\n",
    "    for i, line in enumerate(lines):\n",
    "        line = line.replace(\"$-9.\", \"$-\\phn9.\")\n",
    "        lines[i] = line\n",
    "        first = line.partition(\".\")[0]\n",
    "        if first.isnumeric() and len(first) == 2:\n",
    "            lines[i] = \"\\\\phn\" + line\n",
    "\n",
    "\n",
    "    return lines\n",
    "\n",
    "write_latex_table(\n",
    "    t_dist,\n",
    "    formats=([\"%.1f\"] + [\"%.3f\"] * 2 + [\"$%.2f$\"] * 6),\n",
    "    edit_func=edit_func,\n",
    ")"
   ]
  },
  {
   "cell_type": "code",
   "execution_count": null,
   "metadata": {},
   "outputs": [],
   "source": []
  }
 ],
 "metadata": {
  "kernelspec": {
   "display_name": "Python 3 (ipykernel)",
   "language": "python",
   "name": "python3"
  },
  "language_info": {
   "codemirror_mode": {
    "name": "ipython",
    "version": 3
   },
   "file_extension": ".py",
   "mimetype": "text/x-python",
   "name": "python",
   "nbconvert_exporter": "python",
   "pygments_lexer": "ipython3",
   "version": "3.9.13"
  }
 },
 "nbformat": 4,
 "nbformat_minor": 2
}
